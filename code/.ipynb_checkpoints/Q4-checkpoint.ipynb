{
 "cells": [
  {
   "cell_type": "markdown",
   "id": "0f9ead98",
   "metadata": {},
   "source": [
    "# Q4. PCA"
   ]
  },
  {
   "cell_type": "code",
   "execution_count": 1,
   "id": "f12ac41c",
   "metadata": {},
   "outputs": [],
   "source": [
    "from mnist import MNIST\n",
    "\n",
    "mnist = MNIST('../dataset/MNIST')\n",
    "x_train, y_train = mnist.load_training() #60000 samples\n",
    "x_test, y_test = mnist.load_testing()    #10000 samples"
   ]
  }
 ],
 "metadata": {
  "kernelspec": {
   "display_name": "Python 3 (ipykernel)",
   "language": "python",
   "name": "python3"
  },
  "language_info": {
   "codemirror_mode": {
    "name": "ipython",
    "version": 3
   },
   "file_extension": ".py",
   "mimetype": "text/x-python",
   "name": "python",
   "nbconvert_exporter": "python",
   "pygments_lexer": "ipython3",
   "version": "3.8.14"
  }
 },
 "nbformat": 4,
 "nbformat_minor": 5
}
